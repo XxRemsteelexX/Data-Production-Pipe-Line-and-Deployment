{
 "cells": [
  {
   "cell_type": "markdown",
   "id": "3dca7a62",
   "metadata": {},
   "source": [
    "<h1>Model to predict airport flight delays</h1>\n",
    "\n",
    "Much of this model is taken from the work of Fabien Daniel:\n",
    "https://www.kaggle.com/code/fabiendaniel/predicting-flight-delays-tutorial/notebook.  \n",
    "The difference here is that we are modeling delays for all arrival airports and all airlines given a single departure airport.\n",
    "\n",
    "We also incorporate MLflow tracking using the Python API.  \n",
    "\n",
    "Input parameters for this script include:\n",
    "* num_alpha_increments:  The number of different Ridge regression alpha penalty values to try, spaced by 0.2 apart\n",
    "  \n",
    "Dependencies:\n",
    "* cleaned_data.csv is the input data file, structured appropriately.  The structure of this data file must be:\n",
    "\n",
    "Outputs:\n",
    "* log file named \"polynomial_regression.txt\" containing information about the model training process\n",
    "* MLFlow experiment named with current date containing model training runs, one for each value of the Ridge regression penalty\n",
    "\n",
    "| YEAR | MONTH | DAY | DAY_OF_WEEK | ORG_AIRPORT | DEST_AIRPORT | SCHEDULED_DEPARTURE | DEPARTURE_TIME | DEPARTURE_DELAY | SCHEDULED_ARRIVAL | ARRIVAL_TIME | ARRIVAL_DELAY |\n",
    "|:--------:|:--------:|:--------:|:--------:|:--------:|:--------:|:--------:|:--------:|:--------:|:--------:|:--------:|:--------:|\n",
    "| integer | integer | integer | integer | string | string | integer | integer | integer | integer | integer | integer |\n"
   ]
  },
  {
   "cell_type": "code",
   "execution_count": 2,
   "id": "76584614-2614-4b68-9c1c-241960c6a695",
   "metadata": {},
   "outputs": [],
   "source": [
    "# Here we import the packages we will need\n",
    "import datetime\n",
    "import pandas as pd\n",
    "import argparse\n",
    "import seaborn as sns\n",
    "import matplotlib.pyplot as plt\n",
    "import numpy as np\n",
    "from sklearn.preprocessing import PolynomialFeatures, LabelEncoder, OneHotEncoder\n",
    "from sklearn import metrics, linear_model\n",
    "from sklearn.datasets import make_classification\n",
    "from sklearn.model_selection import train_test_split\n",
    "from sklearn.linear_model import Ridge\n",
    "import mlflow\n",
    "import mlflow.sklearn\n",
    "import logging\n",
    "import os\n",
    "import pickle\n",
    "import json"
   ]
  },
  {
   "cell_type": "code",
   "execution_count": 3,
   "id": "b8af2193-8b57-4446-945e-832bc7851313",
   "metadata": {},
   "outputs": [],
   "source": [
    "# set up the argument parser\n",
    "parser = argparse.ArgumentParser(description='Parse the parameters for the polynomial regression')\n",
    "parser.add_argument('num_alphas', metavar='N', type=int, help='Number of Lasso penalty increments')\n",
    "order = 1\n",
    "#args = parser.parse_args()\n",
    "#num_alpha_increments = args[0]\n",
    "# Uncomment the two lines above and comment the line below to run this script from the command prompt or as part of an \n",
    "# MLFlow pipeline\n",
    "num_alphas = 20"
   ]
  },
  {
   "cell_type": "code",
   "execution_count": 4,
   "id": "5eab431f-f1b7-4862-b4ee-c0d6a4a8615d",
   "metadata": {},
   "outputs": [],
   "source": [
    "# configure logger\n",
    "logname = \"polynomial_regression.txt\"\n",
    "logging.basicConfig(filename=logname,\n",
    "                    filemode='w',\n",
    "                    format='%(asctime)s %(levelname)s %(message)s',\n",
    "                    datefmt='%H:%M:%S',\n",
    "                    level=logging.DEBUG)\n",
    "logging.getLogger('matplotlib.font_manager').disabled = True\n",
    "logging.info(\"Flight Departure Delays Polynomial Regression Model Log\")"
   ]
  },
  {
   "cell_type": "code",
   "execution_count": 5,
   "id": "dcee6149-ab4b-40fd-bab9-ab139883539f",
   "metadata": {},
   "outputs": [],
   "source": [
    "# read the data file\n",
    "df = pd.read_csv(\"cleaned_data.csv\")\n",
    "tab_info=pd.DataFrame(df.dtypes).T.rename(index={0:'column type'})"
   ]
  },
  {
   "cell_type": "code",
   "execution_count": 6,
   "id": "70c438e1",
   "metadata": {},
   "outputs": [],
   "source": [
    "def grab_month_year(df:pd.DataFrame) -> tuple:\n",
    "    \"\"\"\n",
    "    grab_month_year is a function to extract the month and year of the flights in the departure delay dataset.\n",
    "\n",
    "    Parameters\n",
    "    ----------\n",
    "    df : pd.DataFrame\n",
    "        the input data set in Pandas data frame format.\n",
    "\n",
    "    Returns\n",
    "    -------\n",
    "    tuple\n",
    "        (month,year) of the data set.\n",
    "\n",
    "    Raises\n",
    "    ------\n",
    "    Exception\n",
    "        If more than one month or year are found in the data set.\n",
    "    \"\"\"\n",
    "    months = pd.unique(df['MONTH'])\n",
    "    years = pd.unique(df['YEAR'])\n",
    "    if len(months) >1:\n",
    "        raise Exception(\"Multiple months found in data set, only one acceptable\")\n",
    "    else:\n",
    "        month = int(months[0])\n",
    "    if len(years) > 1:\n",
    "        raise Exception(\"Multiple years found in data set, only one acceptable\")\n",
    "    else:\n",
    "        year = int(years[0])\n",
    "    return (month, year)"
   ]
  },
  {
   "cell_type": "code",
   "execution_count": 7,
   "id": "c867d894",
   "metadata": {},
   "outputs": [],
   "source": [
    "def format_hour(string: str) -> datetime:\n",
    "    \"\"\"\n",
    "    format_hour is a function to convert an 'HHMM' string input to a time in datetime format.\n",
    "\n",
    "    Parameters\n",
    "    ----------\n",
    "    string : string\n",
    "        An hour and minute in 'HHMM' format.\n",
    "\n",
    "    Returns\n",
    "    -------\n",
    "    datetime\n",
    "        An hour and minute (datetime.time).  Returns nan if input string is null.\n",
    "\n",
    "    \"\"\"    \n",
    "    if pd.isnull(string):\n",
    "        return np.nan\n",
    "    else:\n",
    "        if string == 2400: string = 0\n",
    "        string = \"{0:04d}\".format(int(string))\n",
    "        hour = datetime.time(int(string[0:2]), int(string[2:4]))\n",
    "        return hour\n",
    "\n",
    "def combine_date_hour(x: list) -> datetime:\n",
    "    \"\"\"\n",
    "    combine_date_hour is a function that combines a date and time to produce a datetime.datetime\n",
    "\n",
    "    Parameters\n",
    "    ----------\n",
    "    x : list\n",
    "        A list containing a date and a time in datetime format.\n",
    "\n",
    "    Returns\n",
    "    -------\n",
    "    datetime\n",
    "        A combined date and time in datetime format. Returns nan if time is null.\n",
    "\n",
    "    \"\"\"\n",
    "    if pd.isnull(x.iloc[0]) or pd.isnull(x.iloc[1]):\n",
    "        return np.nan\n",
    "    else:\n",
    "        return datetime.datetime.combine(x.iloc[0],x.iloc[1])\n",
    "\n",
    "\n",
    "def create_flight_time(df: pd.DataFrame, col: str) -> pd.Series:\n",
    "    \"\"\"\n",
    "    create_flight_time is a function that combines two columns of a data frame to produce a datetime.datetime series.\n",
    "\n",
    "    Parameters\n",
    "    ----------\n",
    "    df : pd.DataFrame\n",
    "        A data frame containing flight departure delay data\n",
    "    col: string\n",
    "        The name of one of the columns in the data frame containing flight departure delay data\n",
    "\n",
    "    Returns\n",
    "    -------\n",
    "    pd.Series\n",
    "        A Pandas series of datetimes with combined date and time\n",
    "\n",
    "    \"\"\"\n",
    "    list = []\n",
    "    for index, cols in df[['DATE', col]].iterrows():\n",
    "        if pd.isnull(cols.iloc[1]):\n",
    "            list.append(np.nan)\n",
    "        elif float(cols.iloc[1]) == 2400:\n",
    "            cols.iloc[0] += datetime.timedelta(days=1)\n",
    "            cols.iloc[1] = datetime.time(0,0)\n",
    "            list.append(combine_date_hour(cols))\n",
    "        else:\n",
    "            cols.iloc[1] = format_hour(cols.iloc[1])\n",
    "            list.append(combine_date_hour(cols))\n",
    "    return pd.Series(list)"
   ]
  },
  {
   "cell_type": "code",
   "execution_count": 8,
   "id": "32b32cda",
   "metadata": {},
   "outputs": [],
   "source": [
    "def create_df(df: pd.DataFrame) -> pd.DataFrame:\n",
    "    \"\"\"\n",
    "    create_df is a function that wrangles data within a flight departure delay data frame into the format needed for ML training.\n",
    "\n",
    "    Parameters\n",
    "    ----------\n",
    "    df : pd.DataFrame\n",
    "        A data frame containing flight departure delay data\n",
    "\n",
    "    Returns\n",
    "    -------\n",
    "    pd.DataFrame\n",
    "        A Pandas data frame with modified columns and data formats suitable for regression model training\n",
    "\n",
    "    \"\"\"\n",
    "    df2 = df[['SCHEDULED_DEPARTURE','SCHEDULED_ARRIVAL',\n",
    "                                    'DEST_AIRPORT','DEPARTURE_DELAY']]\n",
    "    df2 = df2.dropna(how = 'any')\n",
    "    df2.loc[:,'weekday'] = df2['SCHEDULED_DEPARTURE'].apply(lambda x:x.weekday())\n",
    "    #____________________\n",
    "    # delete delays > 1h\n",
    "    df2.loc[:,'DEPARTURE_DELAY'] = df2['DEPARTURE_DELAY'].apply(lambda x:x if x < 60 else np.nan)\n",
    "    df2 = df2.dropna(how = 'any')\n",
    "    #_________________\n",
    "    # formating times\n",
    "    fct = lambda x:x.hour*3600+x.minute*60+x.second\n",
    "    df2.loc[:,'hour_depart'] = df2['SCHEDULED_DEPARTURE'].apply(lambda x:x.time())\n",
    "    df2.loc[:,'hour_depart'] = df2['hour_depart'].apply(fct)\n",
    "    df2.loc[:,'hour_arrive'] = df2['SCHEDULED_ARRIVAL'].apply(fct)\n",
    "    df2 = df2[['hour_depart','hour_arrive',\n",
    "            'DEST_AIRPORT','DEPARTURE_DELAY','weekday']]\n",
    "    df3 = df2.groupby(['hour_depart', 'hour_arrive', 'DEST_AIRPORT'],\n",
    "                      as_index = False).mean()\n",
    "    return df3"
   ]
  },
  {
   "cell_type": "code",
   "execution_count": 9,
   "id": "f5572aeb-f2ba-4ed2-bad2-c6d57c616c21",
   "metadata": {},
   "outputs": [],
   "source": [
    "nowdate = datetime.date.today()\n",
    "# creates an experiment name that changes every day\n",
    "experiment_name = \"Airport Departure Delays, experiment run on \" + str(nowdate)\n",
    "# creates new experiment if there is not one yet today, otherwise sets the experiment to the existing one for today\n",
    "experiment = mlflow.set_experiment(experiment_name)\n",
    "run_name = \"Run started at \" + datetime.datetime.now().strftime(\"%H:%M\")\n",
    "    "
   ]
  },
  {
   "cell_type": "code",
   "execution_count": 10,
   "id": "4f1c6eca-f075-43a0-9fd1-55c16ff621b8",
   "metadata": {},
   "outputs": [],
   "source": [
    "df['DATE'] = pd.to_datetime(df[['YEAR','MONTH', 'DAY']])\n",
    "(month,year) = grab_month_year(df)\n",
    "logging.info(\"Month and year of data: %s %s\", month, year)\n",
    "df['SCHEDULED_DEPARTURE'] = create_flight_time(df, 'SCHEDULED_DEPARTURE')\n",
    "df['DEPARTURE_TIME'] = df['DEPARTURE_TIME'].apply(format_hour)\n",
    "df['SCHEDULED_ARRIVAL'] = df['SCHEDULED_ARRIVAL'].apply(format_hour)\n",
    "df['ARRIVAL_TIME'] = df['ARRIVAL_TIME'].apply(format_hour)"
   ]
  },
  {
   "cell_type": "code",
   "execution_count": 11,
   "id": "ba9bc740-d6c6-4a6c-a59d-aae33b637215",
   "metadata": {},
   "outputs": [],
   "source": [
    "# define training data as the first 3 weeks of the month, and test data as that from the fourth week of the month\n",
    "df_train = df[df['SCHEDULED_DEPARTURE'].apply(lambda x:x.date()) < datetime.date(year, month, 23)]\n",
    "df_test  = df[df['SCHEDULED_DEPARTURE'].apply(lambda x:x.date()) > datetime.date(year, month, 23)]"
   ]
  },
  {
   "cell_type": "code",
   "execution_count": 12,
   "id": "0d2826ec",
   "metadata": {},
   "outputs": [],
   "source": [
    "df3 = create_df(df_train)"
   ]
  },
  {
   "cell_type": "code",
   "execution_count": 13,
   "id": "c6ef74e3-049b-4107-8f06-0b1d073147bf",
   "metadata": {},
   "outputs": [],
   "source": [
    "# perform one-hot encoding of all destination airports in training data\n",
    "label_encoder = LabelEncoder()\n",
    "integer_encoded = label_encoder.fit_transform(df3['DEST_AIRPORT'])\n",
    "#_________________________________________________________\n",
    "zipped = zip(integer_encoded, df3['DEST_AIRPORT'])\n",
    "label_airports = list(set(list(zipped)))\n",
    "label_airports.sort(key = lambda x:x[0])\n",
    "#_________________________________________________\n",
    "onehot_encoder = OneHotEncoder(sparse_output=False)\n",
    "integer_encoded = integer_encoded.reshape(len(integer_encoded), 1)\n",
    "onehot_encoded = onehot_encoder.fit_transform(integer_encoded)\n",
    "#_________________________________________________\n",
    "b = np.array(df3[['hour_depart', 'hour_arrive']])\n",
    "X = np.hstack((onehot_encoded, b))\n",
    "Y = np.array(df3['DEPARTURE_DELAY'])\n",
    "Y = Y.reshape(len(Y), 1)\n",
    "logging.info(\"Airport one-hot encoding successful\")"
   ]
  },
  {
   "cell_type": "code",
   "execution_count": 14,
   "id": "5d0bd78e",
   "metadata": {},
   "outputs": [],
   "source": [
    "# train/validation split at 30%\n",
    "X_train, X_validate, Y_train, Y_validate = train_test_split(X, Y, test_size=0.3)"
   ]
  },
  {
   "cell_type": "code",
   "execution_count": 15,
   "id": "5fae763f-ef7d-48a7-8858-f9978badceba",
   "metadata": {},
   "outputs": [],
   "source": [
    "with mlflow.start_run(experiment_id = experiment.experiment_id, run_name=run_name):\n",
    "    score_min = 10000\n",
    "    alpha_max = num_alphas * 2\n",
    "    count = 1\n",
    "    # loop through all alpha values\n",
    "    for alpha in range(0, alpha_max, 2):\n",
    "        run_num = \"Training Run Number \" + str(count)\n",
    "        # create a Ridge regressor with the stated alpha\n",
    "        ridgereg = Ridge(alpha = alpha/10)\n",
    "        # create polynomial features based on the polyniomial order\n",
    "        poly = PolynomialFeatures(degree = order)\n",
    "        # fit the model using the training data\n",
    "        X_ = poly.fit_transform(X_train)\n",
    "        ridgereg.fit(X_, Y_train)\n",
    "        X_ = poly.fit_transform(X_validate)\n",
    "        # predict against the validation data\n",
    "        result = ridgereg.predict(X_)\n",
    "        # how well did the model do when compared to the validation actuals?\n",
    "        score = metrics.mean_squared_error(result, Y_validate)\n",
    "        with mlflow.start_run(run_name = run_num,nested=True):\n",
    "            mlflow.log_param(\"alpha\",alpha/10)\n",
    "            mlflow.log_metric(\"Training Data Mean Squared Error\",score)\n",
    "            mlflow.log_metric(\"Training Data Average Delay\",np.sqrt(score))\n",
    "        if score < score_min:\n",
    "            score_min = score\n",
    "            parameters = [alpha, order]\n",
    "        logging.info(\"n={} alpha={} , MSE = {:<0.5}\".format(order, alpha/10, score))\n",
    "        count +=1\n",
    "    # train and predict on validation data with optimal alpha found\n",
    "    X_ = poly.fit_transform(X_validate)\n",
    "    tresult = ridgereg.predict(X_)\n",
    "    tscore = metrics.mean_squared_error(tresult, Y_validate)\n",
    "    logging.info('Training Data Final MSE = {}'.format(round(tscore, 2)))\n",
    "    mlflow.log_metric(\"Training Data Mean Squared Error\",tscore)\n",
    "    mlflow.log_metric(\"Training Data Average Delay\",np.sqrt(tscore))\n",
    "mlflow.end_run()\n",
    "logging.info(\"Model training loop completed with %s iterations\", count-1)"
   ]
  },
  {
   "cell_type": "code",
   "execution_count": 16,
   "id": "2ca5e43c-9bcc-4170-b555-496bc50f5859",
   "metadata": {},
   "outputs": [],
   "source": [
    "# create a data frame of the test data\n",
    "df3 = create_df(df_test)\n",
    "\n",
    "label_conversion = dict()\n",
    "for s in label_airports:\n",
    "    label_conversion[s[1]] = int(s[0])\n",
    "\n",
    "# export airport label conversion for test data to json file for later use\n",
    "jsonout = json.dumps(label_conversion)\n",
    "f = open(\"airport_encodings.json\",\"w\")\n",
    "\n",
    "# write json object to file\n",
    "f.write(jsonout)\n",
    "\n",
    "# close file\n",
    "f.close()\n",
    "logging.info(\"Export of airport one-hot encoding successful\")\n",
    "df3.loc[:,'DEST_AIRPORT'] = df3.loc[:,'DEST_AIRPORT'].map(pd.Series(label_conversion))\n",
    "\n",
    "# manually one-hot encode destination airports for test data\n",
    "for index, label in label_airports:\n",
    "    temp = df3['DEST_AIRPORT'] == index\n",
    "    temp = temp.apply(lambda x:1.0 if x else 0.0)\n",
    "    if index == 0:\n",
    "        matrix = np.array(temp)\n",
    "    else:\n",
    "        matrix = np.vstack((matrix, temp))\n",
    "matrix = matrix.T\n",
    "\n",
    "b = np.array(df3[['hour_depart', 'hour_arrive']])\n",
    "X_test = np.hstack((matrix, b))\n",
    "Y_test = np.array(df3['DEPARTURE_DELAY'])\n",
    "Y_test = Y_test.reshape(len(Y_test), 1)\n",
    "logging.info(\"Wrangling of test data successful\")"
   ]
  },
  {
   "cell_type": "code",
   "execution_count": 17,
   "id": "7875cc15",
   "metadata": {},
   "outputs": [],
   "source": [
    "# create polynomial features based on order\n",
    "X_ = poly.fit_transform(X_test)\n",
    "# predict on last week of month data\n",
    "result = ridgereg.predict(X_)\n",
    "score = metrics.mean_squared_error(result, Y_test)\n",
    "logging.info('Test Data MSE = {}'.format(round(score, 2)))\n",
    "logging.info(\"Predictions using test data successful\")"
   ]
  },
  {
   "cell_type": "code",
   "execution_count": 18,
   "id": "121e28c3-9abf-4307-93de-94a24e56a8ea",
   "metadata": {},
   "outputs": [],
   "source": [
    "logging.info('Test Data average delay = {:.2f} min'.format(np.sqrt(score)))"
   ]
  },
  {
   "cell_type": "code",
   "execution_count": 19,
   "id": "7977d56b-0f53-431b-b67c-c8d7772cea71",
   "metadata": {},
   "outputs": [],
   "source": [
    "# export final model\n",
    "filename = 'finalized_model.pkl'\n",
    "pickle.dump(ridgereg, open(filename, 'wb'))\n",
    "logging.info(\"Final model export successful\")"
   ]
  },
  {
   "cell_type": "code",
   "execution_count": 21,
   "id": "a100a56a-0e47-42b9-a30a-397b4738e301",
   "metadata": {},
   "outputs": [
    {
     "name": "stderr",
     "output_type": "stream",
     "text": [
      "C:\\Users\\remsteele\\AppData\\Local\\Temp\\ipykernel_16024\\4029917953.py:3: DeprecationWarning: Conversion of an array with ndim > 0 to a scalar is deprecated, and will error in future. Ensure you extract a single element from your array before performing this operation. (Deprecated NumPy 1.25.)\n",
      "  tips[\"prediction\"] = pd.Series([float(s) for s in result])\n"
     ]
    },
    {
     "data": {
      "image/png": "[encoded data removed]",
      "text/plain": [
       "<Figure size 600x600 with 3 Axes>"
      ]
     },
     "metadata": {},
     "output_type": "display_data"
    }
   ],
   "source": [
    "# create and export model performance plot\n",
    "tips = pd.DataFrame()\n",
    "tips[\"prediction\"] = pd.Series([float(s) for s in result]) \n",
    "tips[\"original_data\"] = pd.Series([float(s) for s in Y[:,0]]) \n",
    "sns.jointplot(x=\"original_data\", y=\"prediction\", data=tips, height = 6, ratio = 7,\n",
    "              joint_kws={'line_kws':{'color':'limegreen'}}, kind='reg')\n",
    "plt.xlabel('Mean delays (min)', fontsize = 15)\n",
    "plt.ylabel('Predictions (min)', fontsize = 15)\n",
    "plt.plot(list(range(-10,25)), list(range(-10,25)), linestyle = ':', color = 'r')\n",
    "plt.savefig(\"model_performance_test.jpg\",dpi=300)\n",
    "logging.info(\"Model performance plot export successful\")"
   ]
  },
  {
   "cell_type": "code",
   "execution_count": 23,
   "id": "8b7024fa-022f-4032-9c1d-425783089cff",
   "metadata": {},
   "outputs": [
    {
     "name": "stderr",
     "output_type": "stream",
     "text": [
      "2025/02/16 16:29:14 INFO mlflow.tracking.fluent: Experiment with name 'Airport_Delay_Prediction' does not exist. Creating a new experiment.\n"
     ]
    },
    {
     "data": {
      "application/vnd.jupyter.widget-view+json": {
       "model_id": "3127e2be35e34755a0b3a29d722d0e19",
       "version_major": 2,
       "version_minor": 0
      },
      "text/plain": [
       "Downloading artifacts:   0%|          | 0/7 [00:00<?, ?it/s]"
      ]
     },
     "metadata": {},
     "output_type": "display_data"
    }
   ],
   "source": [
    "import mlflow\n",
    "import mlflow.sklearn\n",
    "from sklearn.linear_model import Ridge\n",
    "from sklearn.model_selection import GridSearchCV\n",
    "\n",
    "#  Ensure any active MLFlow run is ended before starting a new one\n",
    "if mlflow.active_run():\n",
    "    mlflow.end_run()\n",
    "\n",
    "# Explicitly set the experiment\n",
    "mlflow.set_experiment(\"Airport_Delay_Prediction\")\n",
    "\n",
    "# Retrieve the experiment again to avoid ID mismatches\n",
    "experiment = mlflow.get_experiment_by_name(\"Airport_Delay_Prediction\")\n",
    "\n",
    "# Define hyperparameter grid\n",
    "alpha_values = [0.001, 0.01, 0.1, 1, 10]\n",
    "\n",
    "with mlflow.start_run(experiment_id = experiment.experiment_id, run_name = \"Final Model - Test Data\"):\n",
    "    # input parameters\n",
    "    mlflow.log_param(\"alpha\", parameters[0]/10)\n",
    "    mlflow.log_param(\"polynomial_order\", order)\n",
    "    \n",
    "    # performance metrics\n",
    "    mlflow.log_metric(\"RMSE\", np.sqrt(score))\n",
    "    mlflow.log_metric(\"MSE\", score)\n",
    "    mlflow.log_metric(\"mean_delay_minutes\", np.mean(np.abs(result - Y_test)))\n",
    "    \n",
    "    # Transform input example using polynomial features\n",
    "    input_example = X_test[0:2]  # Take first two rows as example\n",
    "    input_example_transformed = poly.transform(input_example)\n",
    "    \n",
    "    # Create signature using transformed features\n",
    "    signature = mlflow.models.infer_signature(\n",
    "        input_example_transformed,  # Input example after polynomial transformation\n",
    "        result[0:2]                # Corresponding outputs\n",
    "    )\n",
    "    \n",
    "    mlflow.sklearn.log_model(\n",
    "        ridgereg, \n",
    "        \"model\",\n",
    "        signature=signature,\n",
    "        input_example=input_example_transformed\n",
    "    )\n",
    "    mlflow.log_artifact(\"model_performance_test.jpg\")\n",
    "    mlflow.log_artifact(\"polynomial_regression.txt\")\n",
    "\n",
    "mlflow.end_run()\n"
   ]
  },
  {
   "cell_type": "code",
   "execution_count": 25,
   "id": "8eb4eed1-6d4f-425a-b0b6-3fa5a1ba9365",
   "metadata": {},
   "outputs": [],
   "source": [
    "logging.shutdown()"
   ]
  },
  {
   "cell_type": "code",
   "execution_count": null,
   "id": "f7e4d97e-d3be-4468-9286-4f57c00aa9ad",
   "metadata": {},
   "outputs": [],
   "source": []
  }
 ],
 "metadata": {
  "kernelspec": {
   "display_name": "Python 3 (ipykernel)",
   "language": "python",
   "name": "python3"
  },
  "language_info": {
   "codemirror_mode": {
    "name": "ipython",
    "version": 3
   },
   "file_extension": ".py",
   "mimetype": "text/x-python",
   "name": "python",
   "nbconvert_exporter": "python",
   "pygments_lexer": "ipython3",
   "version": "3.12.3"
  }
 },
 "nbformat": 4,
 "nbformat_minor": 5
}
